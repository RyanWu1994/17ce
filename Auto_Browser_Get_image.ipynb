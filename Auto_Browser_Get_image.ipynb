{
 "cells": [
  {
   "cell_type": "code",
   "execution_count": 1,
   "metadata": {},
   "outputs": [],
   "source": [
    "# 自動開啟網頁，手動截圖\n",
    "\n",
    "from selenium import webdriver\n",
    "from selenium.webdriver.common.by import By\n",
    "import pandas as pd\n",
    "import time\n",
    "\n",
    "def SeleniumGet(URL):\n",
    "    CHROMEDRIVER_PATH = './tools/chromedriver'\n",
    "    driver = webdriver.Chrome(CHROMEDRIVER_PATH)\n",
    "    driver.maximize_window()\n",
    "    driver.get(\"https://www.17ce.com/\")\n",
    "    time.sleep(1)\n",
    "    driver.find_element(By.ID, \"nav1\").click()\n",
    "    driver.find_element(By.ID, \"url\").click()\n",
    "    driver.find_element(By.ID, \"url\").send_keys(URL)\n",
    "    driver.find_element(By.ID, \"su\").click()\n",
    "    time.sleep(1)\n",
    "    driver.execute_script(\"document.body.style.zoom='0.8'\") \n",
    "    time.sleep(1)\n",
    "    driver.execute_script(\"window.scrollTo(0,200)\")\n",
    "    print(\"開啟成功：\" + URL)\n",
    "    print(\"==========================\")\n",
    "    \n",
    "web_list = pd.read_csv(\"./URL_dict.csv\")\n",
    "A = web_list[\"URL\"][:3]\n",
    "B = web_list[\"URL\"][3:6]\n",
    "C = web_list[\"URL\"][6:]\n"
   ]
  },
  {
   "cell_type": "code",
   "execution_count": null,
   "metadata": {},
   "outputs": [],
   "source": [
    "for web in A:\n",
    "    SeleniumGet(web)"
   ]
  },
  {
   "cell_type": "code",
   "execution_count": null,
   "metadata": {},
   "outputs": [],
   "source": [
    "for web in B:\n",
    "    SeleniumGet(web)"
   ]
  },
  {
   "cell_type": "code",
   "execution_count": 2,
   "metadata": {},
   "outputs": [
    {
     "name": "stdout",
     "output_type": "stream",
     "text": [
      "開啟成功：https://shanmao.tv/\n",
      "==========================\n",
      "開啟成功：https://smtv.io/\n",
      "==========================\n",
      "開啟成功：https://smzb.io/\n",
      "==========================\n"
     ]
    }
   ],
   "source": [
    "for web in C:\n",
    "    SeleniumGet(web)"
   ]
  }
 ],
 "metadata": {
  "kernelspec": {
   "display_name": "Python 3",
   "language": "python",
   "name": "python3"
  },
  "language_info": {
   "codemirror_mode": {
    "name": "ipython",
    "version": 3
   },
   "file_extension": ".py",
   "mimetype": "text/x-python",
   "name": "python",
   "nbconvert_exporter": "python",
   "pygments_lexer": "ipython3",
   "version": "3.7.4"
  }
 },
 "nbformat": 4,
 "nbformat_minor": 2
}

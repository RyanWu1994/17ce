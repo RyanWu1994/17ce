{
 "cells": [
  {
   "cell_type": "code",
   "execution_count": 1,
   "metadata": {},
   "outputs": [],
   "source": [
    "import requests\n",
    "import time\n",
    "import json\n",
    "from bs4 import BeautifulSoup\n",
    "from selenium import webdriver\n",
    "from selenium.webdriver.common.by import By\n",
    "import pandas as pd\n",
    "import os\n",
    "import random\n"
   ]
  },
  {
   "cell_type": "code",
   "execution_count": 2,
   "metadata": {},
   "outputs": [],
   "source": [
    "def mkdir(path):\n",
    "    #判斷目錄是否存在\n",
    "    #存在：True\n",
    "    #不存在：False\n",
    "    folder = os.path.exists(path)\n",
    "\n",
    "    #判斷結果\n",
    "    if not folder:\n",
    "        #如果不存在，則建立新目錄\n",
    "        os.makedirs(path)\n",
    "        print(path + \" 建立成功\")\n",
    "\n",
    "    else:\n",
    "        #如果目錄已存在，則不建立，提示目錄已存在\n",
    "        print(path + \" 目錄已存在\")\n",
    "\n",
    "        \n",
    "def SeleniumGetPhoto(web):\n",
    "    CHROMEDRIVER_PATH = './tools/chromedriver'\n",
    "    driver = webdriver.Chrome(CHROMEDRIVER_PATH)\n",
    "    driver.get(\"https://www.17ce.com/\")\n",
    "    driver.maximize_window()    #視窗最大化\n",
    "    driver.find_element(By.ID, \"nav2\").click()\n",
    "    driver.find_element(By.ID, \"url\").click()\n",
    "    driver.find_element(By.ID, \"url\").send_keys(web)    #search\n",
    "    driver.find_element(By.ID, \"su\").click()\n",
    "    # driver.execute_script('window.scrollTo(0, document.body.scrollHeight);')\n",
    "    driver.execute_script(\"window.scrollTo(0,130)\")\n",
    "    mkdir(\"./photo/\"+web)\n",
    "    time.sleep(10)\n",
    "    driver.save_screenshot( \"./photo/\"+web+\"/\"+ web +\".png\")   #存圖片\n",
    "    driver.close()\n",
    "    print(\"完成：\" + web)\n",
    "    print(\"==========================\")\n"
   ]
  },
  {
   "cell_type": "code",
   "execution_count": 3,
   "metadata": {},
   "outputs": [
    {
     "name": "stdout",
     "output_type": "stream",
     "text": [
      "./photo/www.soslst.com 建立成功\n",
      "完成：www.soslst.com\n",
      "==========================\n",
      "./photo/www.9324pk.com 建立成功\n",
      "完成：www.9324pk.com\n",
      "==========================\n",
      "./photo/zwd.z-bank.com 建立成功\n",
      "完成：zwd.z-bank.com\n",
      "==========================\n",
      "./photo/www.714.com 建立成功\n",
      "完成：www.714.com\n",
      "==========================\n",
      "./photo/iychou.com 建立成功\n",
      "完成：iychou.com\n",
      "==========================\n",
      "./photo/c668.com 建立成功\n",
      "完成：c668.com\n",
      "==========================\n",
      "./photo/154.92.246.110 建立成功\n",
      "完成：154.92.246.110\n",
      "==========================\n",
      "./photo/124.248.242.238 建立成功\n",
      "完成：124.248.242.238\n",
      "==========================\n",
      "./photo/124.248.247.150 建立成功\n",
      "完成：124.248.247.150\n",
      "==========================\n",
      "./photo/182.16.103.7 建立成功\n",
      "完成：182.16.103.7\n",
      "==========================\n"
     ]
    }
   ],
   "source": [
    "web_list = pd.read_csv(\"./URL_dict.csv\")\n",
    "for web in web_list[\"URL\"]:\n",
    "#     print(web)\n",
    "    SeleniumGetPhoto(web)"
   ]
  },
  {
   "cell_type": "code",
   "execution_count": null,
   "metadata": {},
   "outputs": [],
   "source": [
    "def SeleniumGetPhotoTest(web):\n",
    "    CHROMEDRIVER_PATH = './tools/chromedriver'\n",
    "    driver = webdriver.Chrome(CHROMEDRIVER_PATH)\n",
    "    driver.get(\"https://www.17ce.com/\")\n",
    "    driver.maximize_window()    #視窗最大化\n",
    "    driver.find_element(By.ID, \"nav2\").click()\n",
    "    driver.find_element(By.ID, \"url\").click()\n",
    "    driver.find_element(By.ID, \"url\").send_keys(web)    #search\n",
    "    driver.find_element(By.ID, \"su\").click()\n",
    "    # driver.execute_script('window.scrollTo(0, document.body.scrollHeight);')\n",
    "    driver.execute_script(\"window.scrollTo(0,130)\")\n",
    "\n",
    "    print(\"完成：\" + web)\n",
    "    print(\"==========================\")\n"
   ]
  },
  {
   "cell_type": "code",
   "execution_count": null,
   "metadata": {},
   "outputs": [],
   "source": [
    "SeleniumGetPhotoTest(\"www.9324pk.com\")"
   ]
  },
  {
   "cell_type": "code",
   "execution_count": null,
   "metadata": {},
   "outputs": [],
   "source": []
  }
 ],
 "metadata": {
  "kernelspec": {
   "display_name": "Python 3",
   "language": "python",
   "name": "python3"
  },
  "language_info": {
   "codemirror_mode": {
    "name": "ipython",
    "version": 3
   },
   "file_extension": ".py",
   "mimetype": "text/x-python",
   "name": "python",
   "nbconvert_exporter": "python",
   "pygments_lexer": "ipython3",
   "version": "3.6.9"
  }
 },
 "nbformat": 4,
 "nbformat_minor": 2
}

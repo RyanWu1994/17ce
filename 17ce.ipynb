{
 "cells": [
  {
   "cell_type": "code",
   "execution_count": 37,
   "metadata": {},
   "outputs": [],
   "source": [
    "import requests\n",
    "import time\n",
    "import json\n",
    "from bs4 import BeautifulSoup\n",
    "from selenium import webdriver\n",
    "from selenium.webdriver.common.by import By\n",
    "import pandas as pd\n",
    "import os\n",
    "import random\n",
    "\n",
    "\n",
    "def mkdir(path):\n",
    "    #判斷目錄是否存在\n",
    "    #存在：True\n",
    "    #不存在：False\n",
    "    folder = os.path.exists(path)\n",
    "\n",
    "    #判斷結果\n",
    "    if not folder:\n",
    "        #如果不存在，則建立新目錄\n",
    "        os.makedirs(path)\n",
    "        print(path + \" 建立成功\")\n",
    "\n",
    "    else:\n",
    "        #如果目錄已存在，則不建立，提示目錄已存在\n",
    "        print(path + \" 目錄已存在\")\n",
    "\n",
    "        \n",
    "def SeleniumGetPhoto(web):\n",
    "    #drive path\n",
    "    CHROMEDRIVER_PATH = './tools/chromedriver'\n",
    "    driver = webdriver.Chrome(CHROMEDRIVER_PATH)\n",
    "    #get URL\n",
    "    driver.get(\"https://www.17ce.com/\")\n",
    "    #視窗最大化\n",
    "    driver.maximize_window()\n",
    "    #click\n",
    "    driver.find_element(By.ID, \"nav2\").click()\n",
    "    driver.find_element(By.ID, \"url\").click()\n",
    "    #search\n",
    "    driver.find_element(By.ID, \"url\").send_keys(web)\n",
    "    #click\n",
    "    driver.find_element(By.ID, \"su\").click()\n",
    "    #建立folder\n",
    "    mkdir(\"./photo/\"+web)\n",
    "    #停頓\n",
    "    time.sleep(50)\n",
    "    #滾動\n",
    "    # driver.execute_script('window.scrollTo(0, document.body.scrollHeight);')\n",
    "    driver.execute_script(\"window.scrollTo(0,130)\")\n",
    "    #get photo\n",
    "    driver.save_screenshot( \"./photo/\"+web+\"/\"+ web +\".png\")\n",
    "    #滾動\n",
    "    driver.execute_script(\"window.scrollTo(0,400)\")\n",
    "    time.sleep(10)\n",
    "    driver.save_screenshot( \"./photo/\"+web+\"/\"+ web +\"(1).png\")\n",
    "    #close\n",
    "    driver.close()\n",
    "    print(\"完成：\" + web)\n",
    "    print(\"==========================\")\n"
   ]
  },
  {
   "cell_type": "code",
   "execution_count": 39,
   "metadata": {},
   "outputs": [
    {
     "name": "stdout",
     "output_type": "stream",
     "text": [
      "./photo/www.714.com 建立成功\n",
      "完成：www.714.com\n",
      "==========================\n"
     ]
    }
   ],
   "source": [
    "web_list = pd.read_csv(\"./URL_dict.csv\")\n",
    "# for web in web_list[\"URL\"]:\n",
    "#     print(web)\n",
    "\n",
    "SeleniumGetPhoto(web_list[\"URL\"][3])"
   ]
  },
  {
   "cell_type": "code",
   "execution_count": null,
   "metadata": {},
   "outputs": [],
   "source": []
  }
 ],
 "metadata": {
  "kernelspec": {
   "display_name": "Python 3",
   "language": "python",
   "name": "python3"
  },
  "language_info": {
   "codemirror_mode": {
    "name": "ipython",
    "version": 3
   },
   "file_extension": ".py",
   "mimetype": "text/x-python",
   "name": "python",
   "nbconvert_exporter": "python",
   "pygments_lexer": "ipython3",
   "version": "3.6.9"
  }
 },
 "nbformat": 4,
 "nbformat_minor": 2
}
